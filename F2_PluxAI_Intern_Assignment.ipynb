{
  "nbformat": 4,
  "nbformat_minor": 0,
  "metadata": {
    "colab": {
      "provenance": [],
      "gpuType": "T4",
      "include_colab_link": true
    },
    "kernelspec": {
      "name": "python3",
      "display_name": "Python 3"
    },
    "language_info": {
      "name": "python"
    },
    "accelerator": "GPU"
  },
  "cells": [
    {
      "cell_type": "markdown",
      "metadata": {
        "id": "view-in-github",
        "colab_type": "text"
      },
      "source": [
        "<a href=\"https://colab.research.google.com/github/NilotpalMaitra/Intern-/blob/main/F2_PluxAI_Intern_Assignment.ipynb\" target=\"_parent\"><img src=\"https://colab.research.google.com/assets/colab-badge.svg\" alt=\"Open In Colab\"/></a>"
      ]
    },
    {
      "cell_type": "code",
      "execution_count": null,
      "metadata": {
        "cellView": "form",
        "id": "WA_6ReEDzURX"
      },
      "outputs": [],
      "source": [
        "#@title PluxAI Intern Assignment (May 22, 2024)\n",
        "\n",
        "# @markdown ### Please enter your details:\n",
        "# @markdown #### Full Name\n",
        "name = 'NilotpalMaitra' # @param {type:\"string\"}\n",
        "\n",
        "# @markdown #### Email  (please enter the same email as mentioned in the Plux AI application form)\n",
        "email = 'maitrnilotpal@gmail.com' # @param {type:\"string\"}\n",
        "\n",
        "# @markdown #### Graduation Year\n",
        "graduation_year = '2026' # @param [\"2022\", \"2023\", \"2024\", \"2025\", \"2026\"] {allow-input: true}"
      ]
    },
    {
      "cell_type": "markdown",
      "source": [
        "# Assignment Details:\n",
        "\n",
        "This assignment involves building an end-to-end question answering (Q&A) system that operates on a provided dataset containing information about investment funds and their investments. Your goal is to develop a pipeline that accurately answers user queries based on the data from two CSV files: filer.csv and investment.csv. You will implement this project in  notebook.\n",
        "\n",
        "\n",
        "### Dataset description\n",
        "\n",
        "The dataset contains two CSV files:\n",
        "\n",
        "##### filer.csv: Contains information about investment funds.\n",
        "    name: Name of the fund.\n",
        "    cik: Unique identifier for each fund.\n",
        "    series: Series of the fund.\n",
        "    series_id: Unique identifier for each series.\n",
        "    total_assets: Total assets of the fund.\n",
        "    total_liabilities: Total liabilities of the fund.\n",
        "\n",
        "##### investment.csv: Contains information about individual investments made by each fund.\n",
        "    cik: Unique identifier of the fund that made the investment.\n",
        "    investment_name: Name of the investment.\n",
        "    value_usd: Value of the investment in USD.\n",
        "    percentage_investment: Percentage of the fund's total assets invested in this particular investment.\n",
        "\n",
        "### Assignment Breakdown:\n",
        "The assignment is divided into four sections with increasing complexity:\n",
        "1. Test Setup (10 points)\n",
        "2. Basic data analysis (15 points)\n",
        "3. Basic QnA (25 points)\n",
        "4. Complex QnA (50 points)\n",
        "\n",
        "### Notes\n",
        "- If full implementation is challenging, you may provide a detailed textual description of your proposed approach and logic.\n",
        "- You are encouraged to utilize LLMs like Gemini 1.5 Pro to enhance your QnA system for this section.\n",
        "- While handling a variety of questions is valuable, your primary focus should be on the accuracy of the answers provided by your Q&A system.\n",
        "\n",
        "### Assignment Feedback\n",
        "\n",
        "P.S. Here is an anonymous [feedback link](https://forms.gle/2aLVTQU28zV2fHnF6) for the assignment. It'd be great if you can provide your feedback about the assignment as we are continuously looking to improve our recruiting process.\n"
      ],
      "metadata": {
        "id": "n9QZjygKOglN"
      }
    },
    {
      "cell_type": "code",
      "source": [
        "from google.colab import files\n",
        "uploaded = files.upload()"
      ],
      "metadata": {
        "colab": {
          "base_uri": "https://localhost:8080/",
          "height": 109
        },
        "id": "wx4IflK0bUXX",
        "outputId": "580862c0-72b0-4b2d-914e-e62c83b9ef41"
      },
      "execution_count": null,
      "outputs": [
        {
          "output_type": "display_data",
          "data": {
            "text/plain": [
              "<IPython.core.display.HTML object>"
            ],
            "text/html": [
              "\n",
              "     <input type=\"file\" id=\"files-f1ac8dae-ddb1-452b-a1ed-ef3a7b9b52fd\" name=\"files[]\" multiple disabled\n",
              "        style=\"border:none\" />\n",
              "     <output id=\"result-f1ac8dae-ddb1-452b-a1ed-ef3a7b9b52fd\">\n",
              "      Upload widget is only available when the cell has been executed in the\n",
              "      current browser session. Please rerun this cell to enable.\n",
              "      </output>\n",
              "      <script>// Copyright 2017 Google LLC\n",
              "//\n",
              "// Licensed under the Apache License, Version 2.0 (the \"License\");\n",
              "// you may not use this file except in compliance with the License.\n",
              "// You may obtain a copy of the License at\n",
              "//\n",
              "//      http://www.apache.org/licenses/LICENSE-2.0\n",
              "//\n",
              "// Unless required by applicable law or agreed to in writing, software\n",
              "// distributed under the License is distributed on an \"AS IS\" BASIS,\n",
              "// WITHOUT WARRANTIES OR CONDITIONS OF ANY KIND, either express or implied.\n",
              "// See the License for the specific language governing permissions and\n",
              "// limitations under the License.\n",
              "\n",
              "/**\n",
              " * @fileoverview Helpers for google.colab Python module.\n",
              " */\n",
              "(function(scope) {\n",
              "function span(text, styleAttributes = {}) {\n",
              "  const element = document.createElement('span');\n",
              "  element.textContent = text;\n",
              "  for (const key of Object.keys(styleAttributes)) {\n",
              "    element.style[key] = styleAttributes[key];\n",
              "  }\n",
              "  return element;\n",
              "}\n",
              "\n",
              "// Max number of bytes which will be uploaded at a time.\n",
              "const MAX_PAYLOAD_SIZE = 100 * 1024;\n",
              "\n",
              "function _uploadFiles(inputId, outputId) {\n",
              "  const steps = uploadFilesStep(inputId, outputId);\n",
              "  const outputElement = document.getElementById(outputId);\n",
              "  // Cache steps on the outputElement to make it available for the next call\n",
              "  // to uploadFilesContinue from Python.\n",
              "  outputElement.steps = steps;\n",
              "\n",
              "  return _uploadFilesContinue(outputId);\n",
              "}\n",
              "\n",
              "// This is roughly an async generator (not supported in the browser yet),\n",
              "// where there are multiple asynchronous steps and the Python side is going\n",
              "// to poll for completion of each step.\n",
              "// This uses a Promise to block the python side on completion of each step,\n",
              "// then passes the result of the previous step as the input to the next step.\n",
              "function _uploadFilesContinue(outputId) {\n",
              "  const outputElement = document.getElementById(outputId);\n",
              "  const steps = outputElement.steps;\n",
              "\n",
              "  const next = steps.next(outputElement.lastPromiseValue);\n",
              "  return Promise.resolve(next.value.promise).then((value) => {\n",
              "    // Cache the last promise value to make it available to the next\n",
              "    // step of the generator.\n",
              "    outputElement.lastPromiseValue = value;\n",
              "    return next.value.response;\n",
              "  });\n",
              "}\n",
              "\n",
              "/**\n",
              " * Generator function which is called between each async step of the upload\n",
              " * process.\n",
              " * @param {string} inputId Element ID of the input file picker element.\n",
              " * @param {string} outputId Element ID of the output display.\n",
              " * @return {!Iterable<!Object>} Iterable of next steps.\n",
              " */\n",
              "function* uploadFilesStep(inputId, outputId) {\n",
              "  const inputElement = document.getElementById(inputId);\n",
              "  inputElement.disabled = false;\n",
              "\n",
              "  const outputElement = document.getElementById(outputId);\n",
              "  outputElement.innerHTML = '';\n",
              "\n",
              "  const pickedPromise = new Promise((resolve) => {\n",
              "    inputElement.addEventListener('change', (e) => {\n",
              "      resolve(e.target.files);\n",
              "    });\n",
              "  });\n",
              "\n",
              "  const cancel = document.createElement('button');\n",
              "  inputElement.parentElement.appendChild(cancel);\n",
              "  cancel.textContent = 'Cancel upload';\n",
              "  const cancelPromise = new Promise((resolve) => {\n",
              "    cancel.onclick = () => {\n",
              "      resolve(null);\n",
              "    };\n",
              "  });\n",
              "\n",
              "  // Wait for the user to pick the files.\n",
              "  const files = yield {\n",
              "    promise: Promise.race([pickedPromise, cancelPromise]),\n",
              "    response: {\n",
              "      action: 'starting',\n",
              "    }\n",
              "  };\n",
              "\n",
              "  cancel.remove();\n",
              "\n",
              "  // Disable the input element since further picks are not allowed.\n",
              "  inputElement.disabled = true;\n",
              "\n",
              "  if (!files) {\n",
              "    return {\n",
              "      response: {\n",
              "        action: 'complete',\n",
              "      }\n",
              "    };\n",
              "  }\n",
              "\n",
              "  for (const file of files) {\n",
              "    const li = document.createElement('li');\n",
              "    li.append(span(file.name, {fontWeight: 'bold'}));\n",
              "    li.append(span(\n",
              "        `(${file.type || 'n/a'}) - ${file.size} bytes, ` +\n",
              "        `last modified: ${\n",
              "            file.lastModifiedDate ? file.lastModifiedDate.toLocaleDateString() :\n",
              "                                    'n/a'} - `));\n",
              "    const percent = span('0% done');\n",
              "    li.appendChild(percent);\n",
              "\n",
              "    outputElement.appendChild(li);\n",
              "\n",
              "    const fileDataPromise = new Promise((resolve) => {\n",
              "      const reader = new FileReader();\n",
              "      reader.onload = (e) => {\n",
              "        resolve(e.target.result);\n",
              "      };\n",
              "      reader.readAsArrayBuffer(file);\n",
              "    });\n",
              "    // Wait for the data to be ready.\n",
              "    let fileData = yield {\n",
              "      promise: fileDataPromise,\n",
              "      response: {\n",
              "        action: 'continue',\n",
              "      }\n",
              "    };\n",
              "\n",
              "    // Use a chunked sending to avoid message size limits. See b/62115660.\n",
              "    let position = 0;\n",
              "    do {\n",
              "      const length = Math.min(fileData.byteLength - position, MAX_PAYLOAD_SIZE);\n",
              "      const chunk = new Uint8Array(fileData, position, length);\n",
              "      position += length;\n",
              "\n",
              "      const base64 = btoa(String.fromCharCode.apply(null, chunk));\n",
              "      yield {\n",
              "        response: {\n",
              "          action: 'append',\n",
              "          file: file.name,\n",
              "          data: base64,\n",
              "        },\n",
              "      };\n",
              "\n",
              "      let percentDone = fileData.byteLength === 0 ?\n",
              "          100 :\n",
              "          Math.round((position / fileData.byteLength) * 100);\n",
              "      percent.textContent = `${percentDone}% done`;\n",
              "\n",
              "    } while (position < fileData.byteLength);\n",
              "  }\n",
              "\n",
              "  // All done.\n",
              "  yield {\n",
              "    response: {\n",
              "      action: 'complete',\n",
              "    }\n",
              "  };\n",
              "}\n",
              "\n",
              "scope.google = scope.google || {};\n",
              "scope.google.colab = scope.google.colab || {};\n",
              "scope.google.colab._files = {\n",
              "  _uploadFiles,\n",
              "  _uploadFilesContinue,\n",
              "};\n",
              "})(self);\n",
              "</script> "
            ]
          },
          "metadata": {}
        },
        {
          "output_type": "stream",
          "name": "stdout",
          "text": [
            "Saving investment.csv to investment (1).csv\n",
            "Saving filer.csv to filer.csv\n"
          ]
        }
      ]
    },
    {
      "cell_type": "code",
      "source": [
        "import pandas as pd\n",
        "\n",
        "# Read filer.csv\n",
        "filer_df = pd.read_csv('filer.csv')\n",
        "\n",
        "# Read investment.csv\n",
        "investment_df = pd.read_csv('investment (1).csv')"
      ],
      "metadata": {
        "id": "eFQ-idG9xXPH"
      },
      "execution_count": null,
      "outputs": []
    },
    {
      "cell_type": "code",
      "source": [
        "#@title Test Setup (10 points)\n",
        "\n",
        "#@markdown ## Test basic understanding of pandas.\n",
        "\n",
        "#@markdown ###Complete the following tasks:\n",
        "#@markdown 1. Download filer.csv and investment.csv from [Kaggle.](https://www.kaggle.com/datasets/robotgames/sec-edgar-archive-nport-form-data-2020-quarter-1)\n",
        "#@markdown 2. Load the data into two dataframes -> filer_df and investment_df\n",
        "#@markdown 3. Implement a function which takes a firm name from filer_df and lists down all the investements made by that firm from investment_df.\n",
        "\n",
        "#@markdown > def get_investments(filer_df, investment_df, firm_name):\n",
        "#@markdown >    #Implement your code here\n",
        "#@markdown\n",
        "\n",
        "#@markdown Eg.\n",
        "#@markdown > get_investments(filer_df, investment_df, \"1290 Funds\")\n",
        "#@markdown > should return ['Garda World Security Corp.', 'Tempo Acquisition LLC', ...and so on]"
      ],
      "metadata": {
        "id": "Ohk5hLmL1w83"
      },
      "execution_count": null,
      "outputs": []
    },
    {
      "cell_type": "code",
      "source": [
        "#@markdown complete the above tasks and implement this function\n",
        "def get_investments(filer_df, investment_df, firm_name):\n",
        "  #Implement your code here\n",
        "  #@markdown > get_investments(filer_df, investment_df, \"1290 Funds\")\n",
        "  #@markdown > should return ['Garda World Security Corp.', 'Tempo Acquisition LLC', ...and so on]\n",
        "  pass"
      ],
      "metadata": {
        "id": "-MtsaBms4JME"
      },
      "execution_count": null,
      "outputs": []
    },
    {
      "cell_type": "code",
      "source": [
        "def get_investments(filer_df, investment_df, firm_name):\n",
        "    # Get the cik (unique identifier) for the given firm name\n",
        "    cik = filer_df[filer_df['name'] == firm_name]['cik'].values[0]\n",
        "\n",
        "    # Filter the investment_df to get investments for the given cik\n",
        "    firm_investments = investment_df[investment_df['cik'] == cik]['investment_name'].tolist()\n",
        "\n",
        "    return firm_investments"
      ],
      "metadata": {
        "id": "o_u7voVvxZEE"
      },
      "execution_count": null,
      "outputs": []
    },
    {
      "cell_type": "code",
      "source": [
        "investments = get_investments(filer_df, investment_df, \"1290 Funds\")\n",
        "print(investments)"
      ],
      "metadata": {
        "colab": {
          "base_uri": "https://localhost:8080/"
        },
        "id": "LFC1YMgGxbar",
        "outputId": "30f481d7-147f-46e1-f9a9-5fa6100af962"
      },
      "execution_count": null,
      "outputs": [
        {
          "output_type": "stream",
          "name": "stdout",
          "text": [
            "['Garda World Security Corp.', 'Tempo Acquisition LLC', 'Fortive Corp.', 'Adobe Inc.', 'Beacon Roofing Supply Inc.', 'Constellation Brands Inc.', 'CCO Holdings LLC', 'Morgan Stanley', 'United States of America', 'United States of America', 'Panther BF Aggregator 2 LP', 'FHLMC', 'Devon Energy Corp.', 'QEP Resources Inc.', 'United States of America', 'CenturyLink Inc.', 'FNMA', 'Antero Midstream Partners LP', 'Dollar General Corp.', 'HCA Inc.', 'Tervita Corp.', 'Sysco Corp.', 'Springleaf Finance Corp.', 'JBS USA LUX SA', 'Gulfport Energy Corp.', 'General Motors Financial Co. Inc.', 'JBS USA LUX SA', 'Athene Global Funding', 'VICI Properties LP', 'Philip Morris International Inc.', 'AT&T Inc.', 'Frontier Communications Corp.', 'Sunoco LP', 'Sprint Corp.', 'Georgia Power Co.', 'Home Depot Inc. (The)', 'Aflac Inc.', 'Cognizant Technology Solutions Corp.', 'MEG Energy Corp.', 'Northrop Grumman Corp.', 'NFP Corp.', 'Avantor Inc.', 'United Rentals North America Inc.', 'Cheniere Energy Partners LP', 'Anthem Inc.', 'Cigna Corp.', 'Navient Corp.', 'Air Lease Corp.', 'Interpublic Group of Cos. Inc. (The)', 'Prudential Financial Inc.', 'PayPal Holdings Inc.', 'Santander Holdings USA Inc.', 'CSMC Trust', 'Intelsat Jackson Holdings SA', 'Select Medical Corp.', \"Domino's Pizza Inc.\", 'United States of America', 'Constellation Brands Inc.', 'CCO Holdings LLC', 'IRB Holding Corp.', 'Honeywell International Inc.', 'Uber Technologies Inc.', 'FNMA', 'Microsoft Corp.', 'Citigroup Inc.', 'Nationstar Mortgage Holdings Inc.', 'Tenet Healthcare Corp.', 'Corning Inc.', 'Novelis Corp.', 'Bank of America Corp.', 'Triumph Group Inc.', 'Diamondback Energy Inc.', 'Energy Transfer Operating LP', 'John Deere Capital Corp.', 'Westrock Co.', 'General Motors Co.', 'DoubleLine Floating Rate Fund', 'Bausch Health Cos. Inc.', 'JBS USA LUX SA', 'Alexandria Real Estate Equities Inc.', 'Cincinnati Bell Inc.', 'United States of America', 'Pioneer Natural Resources Co.', 'Builders FirstSource Inc.', 'AECOM', 'Willis North America Inc.', 'American Tower Corp.', 'Allied Universal Holdco LLC', 'Verscend Escrow Corp.', 'Amazon.com Inc.', 'CenturyLink Inc.', 'Scripps Escrow Inc.', 'Parker-Hannifin Corp.', 'Lockheed Martin Corp.', 'Flex Acquisition Co. Inc.', 'GFL Environmental Inc.', 'Synchrony Financial', 'Southern California Edison Co.', 'Gates Global LLC', 'United States of America', 'ESH Hospitality Inc.', 'Avolon Holdings Funding Ltd.', 'Verizon Communications Inc.', 'iHeartCommunications Inc.', 'B&G Foods Inc.', 'Cheniere Energy Partners LP', nan, 'CSC Holdings LLC', 'Goldman Sachs Group Inc. (The)', 'Targa Resources Partners LP', 'Citigroup Inc.', 'Boston Scientific Corp.', 'Altria Group Inc.', 'Splunk Inc.', 'Ortho-Clinical Diagnostics Inc.', 'Mitsubishi UFJ Financial Group Inc.', 'Radiology Partners Inc.', 'Apple Inc.', 'Dun & Bradstreet Corp. (The)', 'General Motors Financial Co. Inc.', 'Zoetis Inc.', 'Wells Fargo & Co.', 'CommScope Inc.', 'FNMA', 'TransDigm Inc.', 'United States of America', 'CHL Mortgage Pass-Through Trust', 'MPT Operating Partnership LP', 'United States of America', 'Wells Fargo Mortgage-Backed Securities Trust', 'United States of America', 'Icahn Enterprises LP', 'Genesys Telecommunications Laboratories Inc.', 'Alliant Holdings Intermediate LLC', 'DISH DBS Corp.', 'Monongahela Power Co.', 'Gray Television Inc.', 'Anheuser-Busch Cos. LLC', 'John Deere Capital Corp.', 'AbbVie Inc.', 'Viking Cruises Ltd.', 'Boeing Co. (The)', 'United States of America', \"O'Reilly Automotive Inc.\", 'Ford Motor Co.', 'Dollar Tree Inc.', 'CCO Holdings LLC', 'Carvana Co.', '1011778 BC ULC', 'Liberty Mutual Group Inc.', 'Lam Research Corp.', 'General Electric Co.', 'Calpine Corp.', 'United States of America', 'United States of America', 'Parsley Energy LLC', 'BioMarin Pharmaceutical Inc.', 'Discover Financial Services', 'GTCR AP Finance Inc.', 'PetSmart Inc.', 'Caesars Resort Collection LLC', 'NXP BV', 'Kinder Morgan Energy Partners LP', 'Lions Gate Capital Holdings LLC', 'Sirius XM Radio Inc.', 'Commonwealth Bank of Australia', 'Charles Schwab Corp. (The)', 'RALI Trust', 'Peabody Energy Corp.', 'SunCoke Energy Partners LP', 'Novartis AG', 'Hess Midstream Operations LP', 'USA Compression Partners LP', 'Parkland Fuel Corp.', 'Delta Air Lines Inc.', 'Bank of Montreal', 'Simon Property Group LP', 'Centene Corp.', 'United States of America', 'AstraZeneca plc', 'United States of America', 'CommScope Inc.', 'Packaging Corp. of America', 'Occidental Petroleum Corp.', 'United States of America', 'Transocean Inc.', 'Waste Management Inc.', 'Colfax Corp.', 'AbbVie Inc.', 'Allied Universal Holdco LLC', 'NextEra Energy Inc.', 'Analog Devices Inc.', 'United States of America', 'Alphabet Inc.', 'Public Storage', 'Eldorado Resorts Inc.', 'Hess Midstream Operations LP', 'PRPM LLC', 'Refinitiv US Holdings Inc.', 'Centene Corp.', 'ESH Hospitality Inc.', 'JBS USA LUX SA', 'Interpublic Group of Cos. Inc. (The)', 'United States of America', 'Continental Resources Inc.', 'CSX Corp.', 'Calpine Corp.', 'Gogo Intermediate Holdings LLC', 'Transocean Poseidon Ltd.', 'Owens Corning', 'Oasis Petroleum Inc.', 'HCA Inc.', 'Charter Communications Operating LLC', 'Hasbro Inc.', 'CVS Health Corp.', 'Alcon Inc.', 'Visa Inc.', 'United States of America', 'TransDigm Inc.', 'WPX Energy Inc.', 'New Residential Mortgage Loan Trust', 'MEG Energy Corp.', 'Energy Transfer Operating LP', 'MPH Acquisition Holdings LLC', 'Cenovus Energy Inc.', 'Anthem Inc.', \"Pilgrim's Pride Corp.\", 'Crown Castle International Corp.', 'United States of America', 'Sirius XM Radio Inc.', 'Icahn Enterprises LP', 'GTT Communications Inc.', 'American Tower Corp.', 'Citigroup Mortgage Loan Trust', 'Kronos Acquisition Holdings Inc.', 'Booking Holdings Inc.', 'HarborView Mortgage Loan Trust', 'American Express Co.', 'Facebook Inc.', 'Cigna Corp.', 'Banc of America Alternative Loan Trust', 'Expedia Group Inc.', 'Willis Towers Watson plc', 'CSMC Trust', 'Performance Food Group Inc.', 'Sabine Pass Liquefaction LLC', 'Golden Nugget Inc.', 'Comcast Corp.', 'Target Corp.', 'Albertsons Cos. Inc.', 'Post Holdings Inc.', 'Indigo Natural Resources LLC', 'FHLMC', 'Capital One Financial Corp.', 'Tempur Sealy International Inc.', 'FHLMC', 'Cott Holdings Inc.', nan, 'Sunoco LP', 'United States of America', 'FedEx Corp.', 'Alexandria Real Estate Equities Inc.', 'Scientific Games International Inc.', 'Sprint Capital Corp.', 'Colfax Corp.', 'Intercontinental Exchange Inc.', 'VICI Properties LP', 'Bausch Health Cos. Inc.', 'Royal Caribbean Cruises Ltd.', 'Welltower Inc.', 'Centene Corp.', 'Smithfield Foods Inc.', 'Lockheed Martin Corp.', 'Twin River Worldwide Holdings Inc.', 'FHLMC', 'Springleaf Finance Corp.', 'Hilcorp Energy I LP', 'Diamond Sports Group LLC', 'CDK Global Inc.', 'West Street Merger Sub Inc.', 'DoubleLine Global Bond Fund', 'United States of America', 'CHL Mortgage Pass-Through Trust', 'Abbott Laboratories', 'Marathon Petroleum Corp.', 'Bank of Nova Scotia (The)', 'GFL Environmental Inc.', 'Staples Inc.', 'iHeartCommunications Inc.', 'Bombardier Inc.', 'Pretium Mortgage Credit Partners I LLC', 'United States of America', 'Halliburton Co.', 'Brooklyn Union Gas Co. (The)', 'UnitedHealth Group Inc.', 'PetSmart Inc.', 'Nexstar Broadcasting Inc.', 'Wells Fargo & Co.', 'Berry Global Inc.', 'Nutrien Ltd.', 'Bausch Health Cos. Inc.', 'FNMA', 'TransDigm Inc.', 'Telesat Canada', 'GSAA Home Equity Trust', 'Albertsons Cos. Inc.', 'FNMA', 'United States of America', 'Nationstar Mortgage Holdings Inc.', 'JP Morgan Mortgage Trust', nan, 'United States of America', 'B&G Foods Inc.', 'United Rentals North America Inc.', 'Penske Truck Leasing Co. LP', 'Cengage Learning Inc.', 'Invesco S&P MidCap Low Volatility ETF', 'Invesco S&P SmallCap Low Volatility ETF', 'Invesco S&P 500 Low Volatility ETF', 'iShares Core S&P Total US Stock Market ETF', 'Invesco S&P Emerging Markets Low Volatility ETF', 'iShares Edge MSCI Min Vol Emerging Markets ETF', 'iShares Edge MSCI Min Vol EAFE ETF', 'iShares Core MSCI Emerging Markets ETF', 'SPDR SSGA US Small Cap Low Volatility Index ETF', 'iShares Edge MSCI Min Vol USA ETF', 'iShares Core MSCI EAFE ETF', 'Invesco S&P International Developed Low Volatility ETF', 'Vanguard Short-Term Bond ETF', 'iShares Core MSCI EAFE ETF', 'iShares Core U.S. Aggregate Bond ETF', 'Invesco S&P International Developed Low Volatility ETF', 'iShares Core MSCI Emerging Markets ETF', 'SPDR Bloomberg Barclays High Yield Bond ETF', 'Invesco S&P 500 Low Volatility ETF', 'Invesco S&P MidCap Low Volatility ETF', 'iShares Edge MSCI Min Vol USA ETF', 'Vanguard Total International Bond ETF', 'iShares Core S&P Total US Stock Market ETF', 'Invesco S&P Emerging Markets Low Volatility ETF', 'iShares Edge MSCI Min Vol EAFE ETF', 'iShares Edge MSCI Min Vol Emerging Markets ETF', 'JPMorgan Prime Money Market Fund IM Shares', 'iShares TIPS Bond ETF', 'Invesco S&P SmallCap Low Volatility ETF', 'SPDR SSGA US Small Cap Low Volatility Index ETF', 'iShares Core MSCI Emerging Markets ETF', 'iShares Core U.S. Aggregate Bond ETF', 'Invesco S&P International Developed Low Volatility ETF', 'iShares Core S&P Total US Stock Market ETF', 'iShares Edge MSCI Min Vol Emerging Markets ETF', 'iShares TIPS Bond ETF', 'iShares Edge MSCI Min Vol USA ETF', 'Invesco S&P 500 Low Volatility ETF', 'JPMorgan Prime Money Market Fund IM Shares', 'Invesco S&P MidCap Low Volatility ETF', 'SPDR SSGA US Small Cap Low Volatility Index ETF', 'iShares Core MSCI EAFE ETF', 'Invesco S&P SmallCap Low Volatility ETF', 'Invesco S&P Emerging Markets Low Volatility ETF', 'iShares Edge MSCI Min Vol EAFE ETF', 'iShares Core MSCI Emerging Markets ETF', 'iShares TIPS Bond ETF', 'iShares Edge MSCI Min Vol USA ETF', 'iShares Edge MSCI Min Vol EAFE ETF', 'iShares Core S&P Total US Stock Market ETF', 'Invesco S&P 500 Low Volatility ETF', 'Invesco S&P Emerging Markets Low Volatility ETF', 'JPMorgan Prime Money Market Fund IM Shares', 'iShares Core MSCI EAFE ETF', 'iShares Edge MSCI Min Vol Emerging Markets ETF', 'iShares Core U.S. Aggregate Bond ETF', 'Invesco S&P SmallCap Low Volatility ETF', 'Invesco S&P International Developed Low Volatility ETF', 'Invesco S&P MidCap Low Volatility ETF', 'SPDR SSGA US Small Cap Low Volatility Index ETF', 'SPDR SSGA US Small Cap Low Volatility Index ETF', 'iShares Core U.S. Aggregate Bond ETF', 'iShares Edge MSCI Min Vol EAFE ETF', 'iShares Edge MSCI Min Vol Emerging Markets ETF', 'Invesco S&P MidCap Low Volatility ETF', 'iShares Core MSCI Emerging Markets ETF', 'iShares Edge MSCI Min Vol USA ETF', 'Invesco S&P Emerging Markets Low Volatility ETF', 'iShares Core S&P Total US Stock Market ETF', 'iShares TIPS Bond ETF', 'Invesco S&P 500 Low Volatility ETF', 'Invesco S&P SmallCap Low Volatility ETF', 'iShares Core MSCI EAFE ETF', 'Invesco S&P International Developed Low Volatility ETF', 'JPMorgan Prime Money Market Fund IM Shares', 'Invesco S&P 500 Low Volatility ETF', 'iShares Edge MSCI Min Vol Emerging Markets ETF', 'Vanguard Total International Bond ETF', 'SPDR Bloomberg Barclays High Yield Bond ETF', 'Vanguard Short-Term Bond ETF', 'Invesco S&P MidCap Low Volatility ETF', 'Invesco S&P Emerging Markets Low Volatility ETF', 'iShares TIPS Bond ETF', 'iShares Core MSCI Emerging Markets ETF', 'iShares Core S&P Total US Stock Market ETF', 'iShares Edge MSCI Min Vol EAFE ETF', 'SPDR SSGA US Small Cap Low Volatility Index ETF', 'Invesco S&P International Developed Low Volatility ETF', 'iShares Core U.S. Aggregate Bond ETF', 'Invesco S&P SmallCap Low Volatility ETF', 'iShares Edge MSCI Min Vol USA ETF', 'iShares Core MSCI EAFE ETF', 'JPMorgan Prime Money Market Fund IM Shares', 'Invesco S&P 500 Low Volatility ETF', 'iShares Edge MSCI Min Vol EAFE ETF', 'Invesco S&P Emerging Markets Low Volatility ETF', 'iShares TIPS Bond ETF', 'iShares Edge MSCI Min Vol Emerging Markets ETF', 'iShares Core S&P Total US Stock Market ETF', 'Invesco S&P SmallCap Low Volatility ETF', 'iShares Core MSCI EAFE ETF', 'Invesco S&P International Developed Low Volatility ETF', 'SPDR SSGA US Small Cap Low Volatility Index ETF', 'iShares Core U.S. Aggregate Bond ETF', 'Invesco S&P MidCap Low Volatility ETF', 'iShares Core MSCI Emerging Markets ETF', 'iShares Edge MSCI Min Vol USA ETF', 'iShares Edge MSCI Min Vol EAFE ETF', 'Invesco S&P Emerging Markets Low Volatility ETF', 'iShares TIPS Bond ETF', 'Invesco S&P International Developed Low Volatility ETF', 'iShares Core S&P Total US Stock Market ETF', 'SPDR SSGA US Small Cap Low Volatility Index ETF', 'iShares Edge MSCI Min Vol Emerging Markets ETF', 'Invesco S&P SmallCap Low Volatility ETF', 'iShares Edge MSCI Min Vol USA ETF', 'iShares Core MSCI EAFE ETF', 'Invesco S&P MidCap Low Volatility ETF', 'Invesco S&P 500 Low Volatility ETF', 'iShares Core MSCI Emerging Markets ETF', 'iShares Core U.S. Aggregate Bond ETF', 'iShares Core MSCI Emerging Markets ETF', 'iShares TIPS Bond ETF', 'Invesco S&P MidCap Low Volatility ETF', 'iShares Edge MSCI Min Vol USA ETF', 'SPDR SSGA US Small Cap Low Volatility Index ETF', 'iShares Edge MSCI Min Vol EAFE ETF', 'Invesco S&P International Developed Low Volatility ETF', 'iShares Edge MSCI Min Vol Emerging Markets ETF', 'iShares Core MSCI EAFE ETF', 'iShares Core S&P Total US Stock Market ETF', 'Invesco S&P SmallCap Low Volatility ETF', 'Invesco S&P 500 Low Volatility ETF', 'Invesco S&P Emerging Markets Low Volatility ETF', 'iShares Core U.S. Aggregate Bond ETF', 'Dril-Quip Inc.', 'Evolent Health Inc.', 'Cloudflare Inc.', 'Liberty Media Corp.-Liberty Braves', nan, 'Tredegar Corp.', 'Mueller Water Products Inc.', 'AMC Networks Inc.', 'Kaman Corp.', 'Cadence Bancorp', 'Wynn Resorts Ltd.', 'Cheesecake Factory Inc. (The)', 'Federated Investors Inc.', 'ServiceMaster Global Holdings Inc.', 'Hyster-Yale Materials Handling Inc.', 'Mattel Inc.', 'Loral Space & Communications Inc.', 'Meredith Corp.', 'Lions Gate Entertainment Corp.', 'Diebold Nixdorf Inc.', 'Corus Entertainment Inc.', 'GCP Applied Technologies Inc.', 'Sirius XM Holdings Inc.', 'Valvoline Inc.', 'Welbilt Inc.', 'Park-Ohio Holdings Corp.', 'Matthews International Corp.', 'Chr Hansen Holding A/S', 'Maple Leaf Foods Inc.', 'Bio-Rad Laboratories Inc.', 'MSG Networks Inc.', 'McCormick & Co. Inc.', 'Sinclair Broadcast Group Inc.', 'Farmer Brothers Co.', 'Evoqua Water Technologies Corp.', 'JCDecaux SA', 'Core Molding Technologies Inc.', 'Moog Inc.', 'Dover Motorsports Inc.', 'Trinity Industries Inc.', 'Lennar Corp.', 'CNH Industrial NV', 'Seritage Growth Properties', 'Ferro Corp.', 'Patterson Cos. Inc.', nan, 'Golden Entertainment Inc.', 'Cott Corp.', 'Intelsat SA', 'Aerojet Rocketdyne Holdings Inc.', 'AVX Corp.', 'Graco Inc.', 'Zuora Inc.', 'AAR Corp.', 'Ampco-Pittsburgh Corp.', 'Myers Industries Inc.', 'Legg Mason Inc.', 'MoneyGram International Inc.', 'Millicom International Cellular SA', 'Madison Square Garden Co. (The)', 'Remy Cointreau SA', 'Donaldson Co. Inc.', 'EW Scripps Co. (The)', 'Astec Industries Inc.', 'Hunter Douglas NV', 'Herc Holdings Inc.', 'Millicom International Cellular SA', 'Synovus Financial Corp.', 'Internap Corp.', 'Stamps.com Inc.', 'WideOpenWest Inc.', 'CIRCOR International Inc.', 'Element Solutions Inc.', 'JM Smucker Co. (The)', 'Macquarie Infrastructure Corp.', 'Eastern Co. (The)', 'Ryman Hospitality Properties Inc.', 'Energizer Holdings Inc.', 'Hain Celestial Group Inc. (The)', 'Ingles Markets Inc.', 'Scotts Miracle-Gro Co. (The)', 'Grupo Televisa SAB', 'Clear Channel Outdoor Holdings Inc.', 'Lear Corp.', 'Hertz Global Holdings Inc.', \"Lands' End Inc.\", 'Mueller Industries Inc.', 'DISH Network Corp.', nan, 'Axalta Coating Systems Ltd.', 'IAA Inc.', \"Casey's General Stores Inc.\", 'Griffon Corp.', 'Gardner Denver Holdings Inc.', 'United States Cellular Corp.', 'HB Fuller Co.', 'RPC Inc.', 'Gogo Inc.', 'Team Inc.', 'Freeport-McMoRan Inc.', 'Liberty Media Corp.-Liberty Braves', 'Flushing Financial Corp.', 'Waddell & Reed Financial Inc.', 'Option Care Health Inc.', 'Arcosa Inc.', 'Eldorado Resorts Inc.', 'Churchill Downs Inc.', 'ViacomCBS Inc.', 'comScore Inc.', 'Kennametal Inc.', 'St Joe Co. (The)', 'Teladoc Health Inc.', 'National Fuel Gas Co.', 'TimkenSteel Corp.', 'Brunswick Corp.', 'Atlantic Capital Bancshares Inc.', 'EchoStar Corp.', 'Greif Inc.', \"Nathan's Famous Inc.\", 'TEGNA Inc.', 'JPMorgan Prime Money Market Fund IM Shares', 'Ashtead Group plc', 'Twin Disc Inc.', 'Navistar International Corp.', 'Communications Systems Inc.', 'National Beverage Corp.', 'Cutera Inc.', 'Toro Co. (The)', 'Carvana Co.', 'Landis+Gyr Group AG', 'GATX Corp.', 'Bassett Furniture Industries Inc.', 'AZZ Inc.', 'Armstrong Flooring Inc.', 'Dana Inc.', 'Davide Campari-Milano SpA', 'AES Corp.', 'Clovis Oncology Inc.', 'Flowserve Corp.', 'ITT Inc.', 'Edgewell Personal Care Co.', 'Textron Inc.', 'Moog Inc.', 'AMC Entertainment Holdings Inc.', 'Bunge Ltd.', 'H&R Block Inc.', 'EnPro Industries Inc.', 'FireEye Inc.', 'KAR Auction Services Inc.', 'Watts Water Technologies Inc.', 'Solera LLC', 'Penske Automotive Group Inc.', 'Match Group Inc.', 'Antero Resources Corp.', 'Scientific Games International Inc.', 'Sprint Corp.', 'Service Corp. International', 'Summit Midstream Holdings LLC', 'MSCI Inc.', 'MSCI Inc.', 'Summit Materials LLC', 'Bausch Health Cos. Inc.', 'Sprint Corp.', 'OI European Group BV', 'Verscend Escrow Corp.', 'Bausch Health Cos. Inc.', 'Howard Hughes Corp. (The)', 'Precision Drilling Corp.', 'Rackspace Hosting Inc.', 'Mauser Packaging Solutions Holding Co.', 'Olin Corp.', 'CenturyLink Inc.', 'TEGNA Inc.', 'Post Holdings Inc.', 'New Enterprise Stone & Lime Co. Inc.', 'DAE Funding LLC', 'Icahn Enterprises LP', 'Holly Energy Partners LP', 'Polaris Intermediate Corp.', 'Ascent Resources Utica Holdings LLC', 'Golden Entertainment Inc.', 'ADT Security Corp. (The)', 'GFL Environmental Inc.', 'Change Healthcare Holdings LLC', 'Mueller Water Products Inc.', 'Bausch Health Cos. Inc.', 'PQ Corp.', \"Pilgrim's Pride Corp.\", 'GW B-CR Security Corp.', 'T-Mobile USA Inc.', 'T-Mobile USA Inc.', 'Diamond Sports Group LLC', 'LTF Merger Sub Inc.', 'Radiology Partners Inc.', 'Tenet Healthcare Corp.', 'Level 3 Financing Inc.', 'Blue Cube Spinco LLC', 'Live Nation Entertainment Inc.', 'Nielsen Co. Luxembourg SARL (The)', 'Ziggo BV', 'Jaguar Holding Co. II', 'SM Energy Co.', 'T-Mobile USA Inc.', 'GTT Communications Inc.', 'Staples Inc.', 'Park Aerospace Holdings Ltd.', 'Novelis Corp.', 'Performance Food Group Inc.', 'Triumph Group Inc.', 'PBF Holding Co. LLC', 'Berry Global Inc.', 'Berry Petroleum Co. LLC', 'Realogy Group LLC', 'AES Corp.', 'Gartner Inc.', 'Bombardier Inc.', 'DISH DBS Corp.', 'Precision Drilling Corp.', 'AECOM Global II LLC', 'Blue Racer Midstream LLC', 'Indigo Natural Resources LLC', 'Sigma Holdco BV', 'Bausch Health Cos. Inc.', 'Ascend Learning LLC', 'Starfruit Finco BV', 'Calumet Specialty Products Partners LP', 'DAE Funding LLC', 'Catalent Pharma Solutions Inc.', 'Aramark Services Inc.', 'Ascent Resources Utica Holdings LLC', 'Hadrian Merger Sub Inc.', 'Centene Corp.', 'CenturyLink Inc.', 'Hilcorp Energy I LP', 'Holly Energy Partners LP', 'Allied Universal Holdco LLC', 'Cincinnati Bell Inc.', 'CDK Global Inc.', 'Univar Solutions USA Inc.', 'GEMS MENASA Cayman Ltd.', 'Axalta Coating Systems LLC', 'Dun & Bradstreet Corp. (The)', 'Central Garden & Pet Co.', 'Tenet Healthcare Corp.', 'Reynolds Group Issuer Inc.', 'Blue Racer Midstream LLC', 'Welbilt Inc.', 'Energizer Holdings Inc.', 'JPMorgan Prime Money Market Fund IM Shares', 'Alliance Data Systems Corp.', 'Greystar Real Estate Partners LLC', 'CCO Holdings LLC', 'CommScope Inc.', 'Targa Resources Partners LP', 'CCO Holdings LLC', 'West Street Merger Sub Inc.', 'Surgery Center Holdings Inc.', 'Sirius XM Radio Inc.', 'B&G Foods Inc.', 'Everi Payments Inc.', 'B&G Foods Inc.', 'Surgery Center Holdings Inc.', 'Ascend Learning LLC', 'T-Mobile USA Inc.', 'Refinitiv US Holdings Inc.', 'PTC Inc.', 'Delek Logistics Partners LP', 'Diamond Sports Group LLC', 'NortonLifeLock Inc.', 'Camelot Finance SA', 'Sprint Corp.', 'Gulfport Energy Corp.', 'Genesis Energy LP', 'Antero Resources Corp.', 'Kraft Heinz Foods Co.', 'Lamar Media Corp.', 'Michaels Stores Inc.', 'CommScope Inc.', 'CCO Holdings LLC', 'Univision Communications Inc.', 'PBF Logistics LP', 'Granite Merger Sub 2 Inc.', 'Nielsen Finance LLC', 'ACI Worldwide Inc.', 'Genesis Energy LP', 'HCA Inc.', 'Parsley Energy LLC', 'Kronos Acquisition Holdings Inc.', 'Itron Inc.', 'CCO Holdings LLC', 'eG Global Finance plc', 'Prestige Brands Inc.', 'Station Casinos LLC', 'Unisys Corp.', 'Eldorado Resorts Inc.', 'Sophia LP', 'Clearwater Seafoods Inc.', 'Curo Group Holdings Corp.', 'Zayo Group LLC', 'Eldorado Resorts Inc.', 'Informatica LLC', 'IHS Markit Ltd.', 'VICI Properties LP', 'Silversea Cruise Finance Ltd.', 'Equinix Inc.', 'Vizient Inc.', 'CrownRock LP', 'Energizer Holdings Inc.', 'CommScope Inc.', 'NVA Holdings Inc.', 'Sprint Corp.', 'ARD Finance SA', 'Berry Global Inc.', 'KGA Escrow LLC', 'Capitol Investment Merger Sub 2 LLC', 'Kenan Advantage Group Inc. (The)', 'Centene Corp.', 'PQ Corp.', 'Sprint Communications Inc.', 'Station Casinos LLC', 'ACCO Brands Corp.', 'Panther BF Aggregator 2 LP', 'CenturyLink Inc.', 'Churchill Downs Inc.', 'Charles River Laboratories International Inc.', 'Sirius XM Radio Inc.', 'American Midstream Partners LP', 'Iron Mountain Inc.', 'Dun & Bradstreet Corp. (The)', 'CCO Holdings LLC', 'Eagle Holding Co. II LLC', 'INEOS Group Holdings SA', 'Chesapeake Energy Corp.', 'Dell International LLC', '1011778 BC ULC', 'Netflix Inc.', 'Photo Holdings Merger Sub Inc.', 'T-Mobile USA Inc.', 'CCO Holdings LLC', 'Bausch Health Americas Inc.', 'Acrisure LLC', 'Prestige Brands Inc.', 'Presidio Holdings Inc.', 'ADT Security Corp. (The)', 'Nufarm Australia Ltd.', 'Crestwood Midstream Partners LP', 'W.R. Grace & Co.-Conn.', 'McGraw-Hill Global Education Holdings LLC', 'Trivium Packaging Finance BV', 'Eagle Holding Co. II LLC', 'Bombardier Inc.', 'Nexstar Broadcasting Inc.', 'SBA Communications Corp.', 'Southern Star Central Corp.', 'CommScope Inc.', 'JBS USA LUX SA', 'Sinclair Television Group Inc.', 'GFL Environmental Inc.', 'SS&C Technologies Inc.', 'Getty Images Inc.', 'Lamb Weston Holdings Inc.', 'National CineMedia LLC', 'First Quality Finance Co. Inc.', 'CenturyLink Inc.', 'HCA Inc.', 'Southwestern Energy Co.', 'Catalent Pharma Solutions Inc.', 'Avolon Holdings Funding Ltd.', 'Watco Cos. LLC', 'Enova International Inc.', 'Sealed Air Corp.', 'Lamb Weston Holdings Inc.', 'Mauser Packaging Solutions Holding Co.', 'CCO Holdings LLC', 'Owens-Brockway Glass Container Inc.', 'NOVA Chemicals Corp.', 'Meredith Corp.', 'Standard Industries Inc.', 'Sprint Capital Corp.', 'Envision Healthcare Corp.', 'Dell International LLC', 'Rayonier AM Products Inc.', 'Presidio Holdings Inc.', 'Reynolds Group Issuer Inc.', 'LABL Escrow Issuer LLC', 'Refinitiv US Holdings Inc.', 'Nexstar Broadcasting Inc.', 'Scientific Games International Inc.', 'Matthews International Corp.', 'LABL Escrow Issuer LLC', 'Freedom Mortgage Corp.', 'Flex Acquisition Co. Inc.', 'Standard Industries Inc.', 'Centene Corp.', 'Stars Group Holdings BV', 'Owens-Brockway Glass Container Inc.', 'Quebecor Media Inc.', 'Centene Corp.', 'Zayo Group LLC', 'Allied Universal Holdco LLC', 'Hill-Rom Holdings Inc.', 'Prime Security Services Borrower LLC', '1011778 BC ULC', 'United States of America', nan, 'NortonLifeLock Inc.', 'Qorvo Inc.', 'Citigroup Inc.', nan, nan, 'JPMBB Commercial Mortgage Securities Trust', nan, nan, nan, 'American Express Co.', nan, 'FHLMC', 'FS KKR Capital Corp.', 'United States of America', nan, nan, nan, nan, nan, 'Bank of America Corp.', 'Bank of America Corp.', 'Owl Rock Capital Corp.', nan, nan, nan, 'Argentine Republic', 'Park Place Securities Inc. Asset-Backed Pass-Through Certificates', 'TDA CAM FTA', nan, 'Popular ABS Mortgage Pass-Through Trust', nan, 'Commercial Mortgage Trust', 'Aames Mortgage Investment Trust', 'Connecticut Avenue Securities Trust', 'FNMA', 'Wells Fargo & Co.', nan, 'DPL Inc.', 'Canadian Imperial Bank of Commerce', 'United States of America', 'Broadcom Inc.', 'United Mexican States', 'Metropolitan Life Global Funding I', 'JPMorgan Chase & Co.', 'UBS Group AG', nan, nan, 'JPMorgan Prime Money Market Fund IM Shares', 'Morgan Stanley', 'Ares Capital Corp.', 'Federative Republic of Brazil', 'T-Mobile US Inc.', nan, 'PetSmart Inc.', nan, 'FS KKR Capital Corp.', nan, nan, 'Petroleos Mexicanos', 'FREMF Mortgage Trust', 'Republic of Indonesia', nan, 'T-Mobile USA Inc.', 'Petroleos Mexicanos', nan, nan, nan, nan, nan, nan, nan, 'Angel Oak Mortgage Trust', nan, nan, nan, 'Markel Corp.', 'Sprint Corp.', nan, nan, 'T-Mobile USA Inc.', nan, 'Saudi Arabian Oil Co.', 'Broadcom Inc.', nan, 'Boeing Co. (The)', 'Goldman Sachs Group Inc. (The)', 'International Business Machines Corp.', nan, 'FHLMC', 'Republic of South Africa', nan, nan, 'United States of America', 'Steel Dynamics Inc.', nan, nan, 'Dell International LLC', nan, 'COLT Mortgage Loan Trust', 'United Mexican States', 'JPMorgan Chase & Co.', 'General Electric Co.', 'American Tower Corp.', nan, nan, nan, nan, nan, nan, 'COLT Mortgage Loan Trust', 'Citigroup Inc.', 'Dell International LLC', 'Invesco DB Commodity Index Tracking Fund', 'WisdomTree Managed Futures Strategy Fund', 'Invesco DB Silver Fund', 'iShares MSCI Global Agriculture Producers ETF', 'JPMorgan Long/Short ETF', 'iShares Commodities Select Strategy ETF', 'IQ Merger Arbitrage ETF', 'iShares Core US REIT ETF', 'Invesco DB Precious Metals Fund', 'iShares TIPS Bond ETF', 'Vanguard Global ex-U.S. Real Estate ETF', 'JPMorgan Diversified Alternatives ETF', 'Vanguard Short-Term Inflation-Protected Securities ETF', 'ProShares Hedge Replication ETF', 'SPDR Bloomberg Barclays Convertible Securities ETF', 'Invesco DB Gold Fund', 'Invesco DB Base Metals Fund', 'Invesco DB G10 Currency Harvest Fund', 'ProShares RAFI Long/Short', 'Prologis Inc.', 'Bank OZK', 'Booz Allen Hamilton Holding Corp.', 'Jazz Pharmaceuticals plc', 'Kose Corp.', 'Assa Abloy AB', 'Anheuser-Busch InBev SA/NV', 'Alibaba Group Holding Ltd.', 'Check Point Software Technologies Ltd.', 'BlackRock Inc.', 'Charles Schwab Corp. (The)', 'Roche Holding AG', 'Stryker Corp.', 'JPMorgan Prime Money Market Fund IM Shares', 'Amazon.com Inc.', 'Unicharm Corp.', 'Berkshire Hathaway Inc.', 'Alphabet Inc.', 'IPG Photonics Corp.', 'Facebook Inc.', \"Financiere de L'Odet SA\", 'FedEx Corp.', 'Fomento Economico Mexicano SAB de CV', 'Ecolab Inc.', 'Fortive Corp.', 'DexCom Inc.', 'Industria de Diseno Textil SA', 'Cognex Corp.', 'Tencent Holdings Ltd.', 'SoftBank Group Corp.', 'Proofpoint Inc.', 'Dassault Systemes SE', 'Fidelity National Information Services Inc.', 'Credicorp Ltd.', 'UnitedHealth Group Inc.', 'EOG Resources Inc.', 'Concho Resources Inc.', 'Sampo OYJ', 'QUALCOMM Inc.', 'Apple Inc.', 'GDS Holdings Ltd.', 'Atlas Air Worldwide Holdings Inc.', 'Fortive Corp.', 'JPMorgan Prime Money Market Fund IM Shares', 'KBR Inc.', 'Momo Inc.', 'Avantor Inc.', 'Advanced Micro Devices Inc.', 'HubSpot Inc.', 'Insmed Inc.', 'Etsy Inc.', 'Zendesk Inc.', 'RealPage Inc.', 'PRA Group Inc.', 'Novellus Systems Inc.', 'Evolent Health Inc.', 'Live Nation Entertainment Inc.', 'Echo Global Logistics Inc.', 'Assurant Inc.', 'Splunk Inc.', 'Nevro Corp.', 'Apellis Pharmaceuticals Inc.', 'Paratek Pharmaceuticals Inc.', 'Akamai Technologies Inc.', 'TTM Technologies Inc.', 'II-VI Inc.', 'Crown Castle International Corp.', 'Aerojet Rocketdyne Holdings Inc.', 'Macquarie Infrastructure Corp.', 'Pluralsight Inc.', 'Redfin Corp.', 'Tabula Rasa HealthCare Inc.', 'BioMarin Pharmaceutical Inc.', 'Teradyne Inc.', 'Illumina Inc.', 'New Relic Inc.', 'Clovis Oncology Inc.', 'Euronet Worldwide Inc.', 'Western Asset Mortgage Capital Corp.', 'Inovio Pharmaceuticals Inc.', 'Okta Inc.', 'Workday Inc.', 'Inphi Corp.', 'Splunk Inc.', 'Insulet Corp.', 'Cheniere Energy Inc.', 'American Electric Power Co. Inc.', 'Caesars Entertainment Corp.', 'Chart Industries Inc.', 'Coupa Software Inc.', 'DISH Network Corp.', 'New Mountain Finance Corp.', 'Snap Inc.', 'LendingTree Inc.', 'Colony Capital Inc.', 'Elanco Animal Health Inc.', 'Becton Dickinson and Co.', 'Twilio Inc.', 'Synaptics Inc.', 'DexCom Inc.', 'Rambus Inc.', 'Proofpoint Inc.', 'Wayfair Inc.', 'Sarepta Therapeutics Inc.', 'Illumina Inc.', 'InterDigital Inc.', 'Horizon Pharma Investment Ltd.', 'IH Merger Sub LLC', 'Tutor Perini Corp.', 'NuVasive Inc.', 'Infinera Corp.', 'MongoDB Inc.', 'Verint Systems Inc.', 'Insulet Corp.', 'Vonage Holdings Corp.', 'Microchip Technology Inc.', 'Incyte Corp.', 'Repligen Corp.', 'Herbalife Nutrition Ltd.', 'CyberArk Software Ltd.', 'Blackline Inc.', 'Microchip Technology Inc.', 'Square Inc.', 'Dycom Industries Inc.', 'Danaher Corp.', 'RH', 'IAC Financeco 3 Inc.', 'Palo Alto Networks Inc.', 'Fortive Corp.', 'Wright Medical Group NV', 'Wells Fargo & Co.', 'Luckin Coffee Inc.', 'Change Healthcare Inc.', 'Zynga Inc.', 'Teladoc Health Inc.', 'ON Semiconductor Corp.', 'Allscripts Healthcare Solutions Inc.', 'Invitae Corp.', 'Western Digital Corp.', 'Encore Capital Group Inc.', 'Exact Sciences Corp.', 'Guess? Inc.', 'Liberty Media Corp-Liberty Formula One', 'Guidewire Software Inc.', 'Bank of America Corp.', 'Pandora Media LLC', 'ServiceNow Inc.', 'Anthem Inc.', 'Ionis Pharmaceuticals Inc.', 'Chegg Inc.', 'Neurocrine Biosciences Inc.', 'Sempra Energy', 'Q2 Holdings Inc.', 'Micron Technology Inc.', 'Silicon Laboratories Inc.', 'Allegheny Technologies Inc.', 'Jazz Investments I Ltd.', 'DocuSign Inc.', 'CONMED Corp.', 'Insight Enterprises Inc.', 'Ligand Pharmaceuticals Inc.', 'Broadcom Inc.', 'Lumentum Holdings Inc.', 'Pure Storage Inc.', 'Booking Holdings Inc.', 'Nutanix Inc.', 'Retrophin Inc.', 'New York Community Capital Trust V', 'Twitter Inc.', 'Cleveland-Cliffs Inc.', 'International Flavors & Fragrances Inc.', 'Okta Inc.', 'SEACOR Holdings Inc.', 'FireEye Inc.', 'Invesco S&P 500 High Dividend Low Volatility ETF', 'Invesco S&P SmallCap Low Volatility ETF', 'iShares Edge MSCI Min Vol EAFE ETF', 'Invesco S&P 500 Low Volatility ETF', 'SPDR SSGA US Small Cap Low Volatility Index ETF', 'Invesco S&P International Developed Low Volatility ETF', 'Invesco S&P Emerging Markets Low Volatility ETF', 'iShares Edge MSCI Min Vol Emerging Markets ETF', 'Invesco S&P MidCap Low Volatility ETF', 'iShares Edge MSCI Min Vol USA ETF', 'JPMorgan Prime Money Market Fund IM Shares', 'SPDR SSGA US Large Cap Low Volatility Index ETF', 'iShares Edge MSCI Min Vol Global ETF', 'Tokyo Gas Co. Ltd.', 'Costco Wholesale Corp.', 'Home Depot Inc. (The)', 'STERIS plc', 'AT&T Inc.', 'Koninklijke Philips NV', 'Verisk Analytics Inc.', 'Brown-Forman Corp.', 'Sysco Corp.', 'Ascendas REIT', 'Compass Group plc', 'Marriott International Inc.', 'Air Products & Chemicals Inc.', 'Intuitive Surgical Inc.', 'CDW Corp.', 'Toray Industries Inc.', 'Fastenal Co.', 'Amphenol Corp.', 'Kamigumi Co. Ltd.', 'Linde plc', 'NIKE Inc.', 'Jack Henry & Associates Inc.', 'Severn Trent plc', 'LVMH Moet Hennessy Louis Vuitton SE', 'Swisscom AG', 'Vornado Realty Trust', 'Industria de Diseno Textil SA', 'UPM-Kymmene OYJ', 'Allianz SE', 'HCA Healthcare Inc.', 'Sekisui Chemical Co. Ltd.', 'Nestle SA', 'DBS Group Holdings Ltd.', 'Bridgestone Corp.', 'Rogers Communications Inc.', 'Daikin Industries Ltd.', 'Sompo Holdings Inc.', 'Rockwell Automation Inc.', 'National Bank of Canada', 'HEICO Corp.', 'PNC Financial Services Group Inc. (The)', 'Asahi Group Holdings Ltd.', 'Tokio Marine Holdings Inc.', 'Novartis AG', 'McCormick & Co. Inc.', 'Cognizant Technology Solutions Corp.', 'Gildan Activewear Inc.', 'Mitsui & Co. Ltd.', 'Coloplast A/S', 'ITOCHU Corp.', 'CME Group Inc.', 'Assicurazioni Generali SpA', 'Baxter International Inc.', 'Canon Inc.', 'Henry Schein Inc.', 'FactSet Research Systems Inc.', 'Elisa OYJ', 'Geberit AG', 'Quest Diagnostics Inc.', 'Simon Property Group Inc.', 'Deutsche Post AG', 'Canadian National Railway Co.', 'PepsiCo Inc.', 'Panasonic Corp.', 'Terumo Corp.', 'Ameriprise Financial Inc.', 'Regency Centers Corp.', 'Pfizer Inc.', 'Sandvik AB', 'SAP SE', 'Atmos Energy Corp.', 'Siemens AG', 'UnitedHealth Group Inc.', 'Oracle Corp.', 'Iberdrola SA', 'Paychex Inc.', 'Bank of Montreal', 'Welltower Inc.', 'Bank of Nova Scotia (The)', 'Procter & Gamble Co. (The)', 'Mizrahi Tefahot Bank Ltd.', 'Hoya Corp.', \"O'Reilly Automotive Inc.\", 'Telia Co. AB', 'CGI Inc.', 'General Dynamics Corp.', 'Astellas Pharma Inc.', 'Estee Lauder Cos. Inc. (The)', 'Starbucks Corp.', 'Toyota Tsusho Corp.', 'Ecolab Inc.', 'Chocoladefabriken Lindt & Spruengli AG', 'Alphabet Inc.', 'Repsol SA', 'Royal Bank of Canada', 'Metro Inc.', 'Mowi ASA', 'IHS Markit Ltd.', 'Ingersoll-Rand plc', 'Loblaw Cos. Ltd.', 'Toyota Motor Corp.', 'S&P Global Inc.', 'BCE Inc.', 'Consolidated Edison Inc.', 'Intel Corp.', 'Apple Inc.', 'Keyence Corp.', 'Cisco Systems Inc.', 'West Pharmaceutical Services Inc.', 'Asahi Kasei Corp.', 'Prologis Inc.', 'TJX Cos. Inc. (The)', 'Comcast Corp.', 'Merck & Co. Inc.', 'Clorox Co. (The)', 'Eversource Energy', 'Hang Seng Bank Ltd.', 'Sherwin-Williams Co. (The)', 'Daiwa House Industry Co. Ltd.', 'Cummins Inc.', 'Mitsui Fudosan Co. Ltd.', 'Anthem Inc.', 'Assa Abloy AB', 'Intact Financial Corp.', 'ANSYS Inc.', 'Kajima Corp.', 'Sekisui House Ltd.', 'IDEXX Laboratories Inc.', 'Johnson Controls International plc', 'Merck KGaA', 'JPMorgan Chase & Co.', 'Visa Inc.', 'Japan Retail Fund Investment Corp.', 'Commonwealth Bank of Australia', 'Novo Nordisk A/S', 'Kellogg Co.', 'Marsh & McLennan Cos. Inc.', 'Equity Residential', 'Shionogi & Co. Ltd.', 'NVR Inc.', 'Pernod Ricard SA', 'Discover Financial Services', 'AmerisourceBergen Corp.', 'Thales SA', 'Bank of New York Mellon Corp. (The)', 'Power Corp. of Canada', 'Cadence Design Systems Inc.', 'Hong Kong Exchanges & Clearing Ltd.', 'Walmart Inc.', 'Bank Leumi Le-Israel BM', 'Kone OYJ', 'Bunzl plc', 'Red Electrica Corp. SA', 'US Bancorp', 'Vinci SA', 'United Technologies Corp.', 'First Capital Realty Inc.', 'Mondelez International Inc.', 'Union Pacific Corp.', 'E.ON SE', 'T. Rowe Price Group Inc.', 'Kyocera Corp.', 'Chr Hansen Holding A/S', 'BHP Group Ltd.', 'Intuit Inc.', 'Citigroup Inc.', 'Zurich Insurance Group AG', 'Medtronic plc', 'Truist Financial Corp.', 'National Grid plc', 'Unilever plc', 'Honeywell International Inc.', 'Snam SpA', 'Akzo Nobel NV', 'Kimberly-Clark Corp.', 'Secom Co. Ltd.', 'American Tower Corp.', 'Roper Technologies Inc.', 'Nippon Telegraph & Telephone Corp.', 'Tyson Foods Inc.', 'Bank Hapoalim BM', 'GPT Group (The)', 'Airbus SE', 'Seven & i Holdings Co. Ltd.', 'Atlas Copco AB', 'TOTAL SA', 'Novozymes A/S', 'Muenchener Rueckversicherungs-Gesellschaft AG', 'Dollar General Corp.', 'Waters Corp.', 'MTU Aero Engines AG', 'Coca-Cola Co. (The)', 'Shin-Etsu Chemical Co. Ltd.', 'CoStar Group Inc.', 'Danaher Corp.', 'Thermo Fisher Scientific Inc.', 'Svenska Handelsbanken AB', 'Public Storage', 'CAE Inc.', 'Allegion plc', 'American Water Works Co. Inc.', 'Hexagon AB', 'Baloise Holding AG', 'Public Service Enterprise Group Inc.', 'IDEX Corp.', 'Eli Lilly & Co.', 'Omnicom Group Inc.', 'Ball Corp.', 'Enel SpA', 'Taisei Corp.', 'Chubu Electric Power Co. Inc.', 'Waste Management Inc.', 'Sampo OYJ', 'Mitsubishi Estate Co. Ltd.', 'Hartford Financial Services Group Inc. (The)', 'Alimentation Couche-Tard Inc.', 'Canadian Imperial Bank of Commerce', 'TransUnion', 'CapitaLand Commercial Trust', 'Kirin Holdings Co. Ltd.', 'Hershey Co. (The)', 'M&T Bank Corp.', 'Accenture plc', 'Quebecor Inc.', 'WSP Global Inc.', 'Toronto-Dominion Bank (The)', 'Telenor ASA', 'Enbridge Inc.', 'Koninklijke DSM NV', 'MTR Corp. Ltd.', 'Abbott Laboratories', 'Illinois Tool Works Inc.', 'Restaurant Brands International Inc.', 'Recruit Holdings Co. Ltd.', 'American Financial Group Inc.', 'United Urban Investment Corp.', 'Brenntag AG', 'FUJIFILM Holdings Corp.', 'H&R REIT', 'Morgan Stanley', 'Eaton Corp. plc', 'PPG Industries Inc.', 'Aena SME SA', 'VF Corp.', 'Expeditors International of Washington Inc.', 'Skandinaviska Enskilda Banken AB', 'Sun Life Financial Inc.', 'Texas Instruments Inc.', 'Sumitomo Corp.', 'adidas AG', 'PayPal Holdings Inc.', 'Eni SpA', 'Automatic Data Processing Inc.', 'Rio Tinto Ltd.', 'Caterpillar Inc.', 'Mastercard Inc.', 'Northrop Grumman Corp.', 'Broadridge Financial Solutions Inc.', 'GlaxoSmithKline plc', 'Citizens Financial Group Inc.', 'Dexus', 'Berkshire Hathaway Inc.', 'Legal & General Group plc', 'Chugai Pharmaceutical Co. Ltd.', \"Lowe's Cos. Inc.\", 'Goodman Group', 'Lennox International Inc.', '3M Co.', 'Booz Allen Hamilton Holding Corp.', 'MSCI Inc.', 'Osaka Gas Co. Ltd.', 'ASML Holding NV', 'General Mills Inc.', 'United Parcel Service Inc.', 'Hitachi Ltd.', 'Mirvac Group', \"Moody's Corp.\", 'United Overseas Bank Ltd.', 'Synopsys Inc.', 'Legrand SA', 'VeriSign Inc.', 'Schneider Electric SE', 'Unilever NV', 'Kuehne + Nagel International AG', 'CMS Energy Corp.', 'Roche Holding AG', 'Lockheed Martin Corp.', 'Aon plc', 'CapitaLand Mall Trust', 'BlackRock Inc.', 'CBRE Group Inc.', 'Masco Corp.', 'Heineken NV', 'WW Grainger Inc.', 'Amadeus IT Group SA', 'Diageo plc', 'Loews Corp.', 'Cochlear Ltd.', 'Givaudan SA', 'Copart Inc.', 'Johnson & Johnson', 'Orsted A/S', 'Odakyu Electric Railway Co. Ltd.', 'AvalonBay Communities Inc.', 'Yum! Brands Inc.', 'Parker-Hannifin Corp.', 'Carlsberg A/S', 'Wolters Kluwer NV', 'East Japan Railway Co.', 'Mettler-Toledo International Inc.', 'Otsuka Holdings Co. Ltd.', 'Insurance Australia Group Ltd.', 'CenterPoint Energy Inc.', 'Shimizu Corp.', 'Obayashi Corp.', 'American Express Co.', 'Sempra Energy', 'Koninklijke Ahold Delhaize NV', 'Mitsubishi Corp.', 'Canadian Pacific Railway Ltd.', 'London Stock Exchange Group plc', 'Japan Prime Realty Investment Corp.', 'Hong Kong & China Gas Co. Ltd.', 'Markel Corp.', 'Woolworths Group Ltd.', 'Swiss Prime Site AG', 'Deutsche Boerse AG', 'Cintas Corp.', 'Church & Dwight Co. Inc.', 'Amgen Inc.', 'Oversea-Chinese Banking Corp. Ltd.', 'National Australia Bank Ltd.', 'Stryker Corp.', 'Deutsche Telekom AG', 'Boston Scientific Corp.', 'AutoZone Inc.', 'Bank of America Corp.', 'Ross Stores Inc.', 'CSL Ltd.', 'Naturgy Energy Group SA', 'Intercontinental Exchange Inc.', 'Northern Trust Corp.', 'Arch Capital Group Ltd.', 'Verizon Communications Inc.', 'Terna Rete Elettrica Nazionale SpA', 'Teledyne Technologies Inc.', 'Agilent Technologies Inc.', 'Nomura Research Institute Ltd.', 'Hankyu Hanshin Holdings Inc.', 'Republic Services Inc.', 'Symrise AG', 'Telefonica SA', 'NTT DOCOMO Inc.', 'Central Japan Railway Co.', 'Great-West Lifeco Inc.', 'Medibank Pvt Ltd.', 'Adobe Inc.', 'Cincinnati Financial Corp.', 'Kintetsu Group Holdings Co. Ltd.', 'Allstate Corp. (The)', 'Willis Towers Watson plc', 'Neste OYJ', 'JPMorgan Prime Money Market Fund IM Shares', 'EDP - Energias de Portugal SA', 'ASX Ltd.', 'Swedbank AB', 'Nitori Holdings Co. Ltd.', 'Wesfarmers Ltd.', 'KDDI Corp.', 'General Motors Co.', 'Chubb Ltd.', 'Aflac Inc.', 'Equity LifeStyle Properties Inc.', \"L'Oreal SA\", 'L3Harris Technologies Inc.', 'Chevron Corp.', 'Microsoft Corp.', 'Ferguson plc', 'Nasdaq Inc.', 'Beiersdorf AG', 'Zoetis Inc.', 'Cerner Corp.', 'Progressive Corp. (The)', 'Manulife Financial Corp.', \"Domino's Pizza Inc.\", 'Kao Corp.', 'Citrix Systems Inc.', 'Danone SA']\n"
          ]
        }
      ]
    },
    {
      "cell_type": "code",
      "source": [
        "#@title Basic data analysis (15 points)\n",
        "\n",
        "#@markdown ###Implement the following functionality:\n",
        "#@markdown 1. Get highest individual investment_name for each cik.\n",
        "#@markdown 2. Get investment_name which has occurred the most across a cik.\n",
        "#@markdown 3. Give total positive and negative investment for each cik."
      ],
      "metadata": {
        "id": "1rnfdNGd5-GP"
      },
      "execution_count": null,
      "outputs": []
    },
    {
      "cell_type": "code",
      "source": [
        "def get_highest_individual_investment(filer_df, investment_df, cik):\n",
        "  #Implement your code here\n",
        "  #@markdown > get_highest_individual_investment(filer_df, investment_df, 1605941)\n",
        "  #@markdown > (cik, investment_name,\tvalue_USD,\tpercentage_investment)\n",
        "  #@markdown > should return (1605941, United States of America,\t15345838.80,\t14.620311)\n",
        "  pass\n",
        "\n",
        "def get_most_occurred_investment_name(filer_df, investment_df, cik):\n",
        "  #Implement your code here\n",
        "  #@markdown > get_most_occurred_investment_name(filer_df, investment_df, 1605941)\n",
        "  #@markdown > should return United States of America\n",
        "  pass\n",
        "\n",
        "def get_total_positive_and_negative_investment(filer_df, investment_df, cik): #check\n",
        "  #Implement your code here\n",
        "  #@markdown > get_total_positive_and_negative_investment(filer_df, investment_df, 1605941)\n",
        "  #@markdown > should return 'United States of America'\n",
        "  pass"
      ],
      "metadata": {
        "id": "8EnA64AB8CPF"
      },
      "execution_count": null,
      "outputs": []
    },
    {
      "cell_type": "code",
      "source": [
        "print(filer_df.columns)\n",
        "print(investment_df.columns)\n",
        "\n",
        "\n",
        "\n"
      ],
      "metadata": {
        "colab": {
          "base_uri": "https://localhost:8080/"
        },
        "id": "pniMBHioJT1Q",
        "outputId": "3475a15a-5697-484d-8120-2e0340590b41"
      },
      "execution_count": null,
      "outputs": [
        {
          "output_type": "stream",
          "name": "stdout",
          "text": [
            "Index(['name', 'cik', 'series', 'series_id', 'total_assets',\n",
            "       'total_liabilities'],\n",
            "      dtype='object')\n",
            "Index(['cik', 'investment_name', 'value_USD', 'percentage_investment'], dtype='object')\n"
          ]
        }
      ]
    },
    {
      "cell_type": "code",
      "source": [
        "\n",
        "def get_highest_individual_investment(filer_df, investment_df, cik):\n",
        "    # Merge the two DataFrames on the common column\n",
        "    merged_df = pd.merge(filer_df, investment_df, on='cik')  # Assuming 'cik' is the common column\n",
        "\n",
        "    # Filter the merged DataFrame for the specified CIK\n",
        "    cik_investments = merged_df[merged_df['cik'] == cik]\n",
        "\n",
        "    # Find the row with the highest individual investment value\n",
        "    highest_investment = cik_investments.loc[cik_investments['value_USD'].idxmax()]\n",
        "\n",
        "    return (cik, highest_investment['investment_name'], highest_investment['value_USD'], highest_investment['percentage_investment'])\n",
        "\n",
        "\n"
      ],
      "metadata": {
        "id": "5p1-DgdWxi9C"
      },
      "execution_count": null,
      "outputs": []
    },
    {
      "cell_type": "code",
      "source": [
        "def get_most_occurred_investment_name(filer_df, investment_df, cik):\n",
        "    # Merge the two DataFrames on the common column\n",
        "    merged_df = pd.merge(filer_df, investment_df, on='cik')  # Assuming 'cik' is the common column\n",
        "\n",
        "    # Filter the merged DataFrame for the specified CIK\n",
        "    cik_investments = merged_df[merged_df['cik'] == cik]\n",
        "\n",
        "    # Find the investment name which has occurred the most\n",
        "    most_occurred_investment = cik_investments['investment_name'].mode()[0]\n",
        "\n",
        "    return most_occurred_investment"
      ],
      "metadata": {
        "id": "yNPbatO8rjzu"
      },
      "execution_count": null,
      "outputs": []
    },
    {
      "cell_type": "code",
      "source": [
        "def get_total_positive_and_negative_investment(filer_df, investment_df, cik):\n",
        "    # Merge the two DataFrames on the common column\n",
        "    merged_df = pd.merge(filer_df, investment_df, on='cik')  # Assuming 'cik' is the common column\n",
        "\n",
        "    # Filter the merged DataFrame for the specified CIK\n",
        "    cik_investments = merged_df[merged_df['cik'] == cik]\n",
        "\n",
        "    # Calculate the total positive and negative investments\n",
        "    total_positive_investment = cik_investments[cik_investments['value_USD'] > 0]['value_USD'].sum()\n",
        "    total_negative_investment = cik_investments[cik_investments['value_USD'] < 0]['value_USD'].sum()\n",
        "\n",
        "    return (cik, total_positive_investment, total_negative_investment)"
      ],
      "metadata": {
        "id": "I0eksMVTrl06"
      },
      "execution_count": null,
      "outputs": []
    },
    {
      "cell_type": "code",
      "source": [
        "# Example usage\n",
        "cik = 1605941\n",
        "print(get_highest_individual_investment(filer_df, investment_df, cik))"
      ],
      "metadata": {
        "id": "192csAJ3rnsx"
      },
      "execution_count": null,
      "outputs": []
    },
    {
      "cell_type": "code",
      "source": [
        "# Example usage\n",
        "cik = 1605941\n",
        "print(get_most_occurred_investment_name(filer_df, investment_df, cik))\n"
      ],
      "metadata": {
        "id": "7ggQvgMjsLLb"
      },
      "execution_count": null,
      "outputs": []
    },
    {
      "cell_type": "code",
      "source": [
        "cik = 1605941\n",
        "print(get_total_positive_and_negative_investment(filer_df, investment_df, cik))"
      ],
      "metadata": {
        "id": "UycViTJRsORQ"
      },
      "execution_count": null,
      "outputs": []
    },
    {
      "cell_type": "code",
      "source": [
        "#@title Basic QnA (25 points) - LLM begins\n",
        "\n",
        "#@markdown #### You are responsible to compute the results for above functions itself but through natural language.\n",
        "#@markdown #### Implement the following function:\n",
        "#@markdown #### <code> answer_basic_query(filer_df, investment_df, query_str) </code>\n",
        "\n",
        "#@markdown ```\n",
        "#@markdown Eg. answer_basic_query(filer_df, investment_df, \"What is the most occurred investment name for cik 1605941 ?\") should return 'United States of America'\n",
        "#@markdown ```\n",
        "\n",
        "#@markdown Note: Basic query need to just handle queries specific to functions in Basic Data Analysis.\n",
        "\n"
      ],
      "metadata": {
        "id": "z6vMgBFHAEY9"
      },
      "execution_count": null,
      "outputs": []
    },
    {
      "cell_type": "code",
      "source": [
        "def answer_basic_query(filer_df, investment_df, query):\n",
        "  #Implement your code here\n",
        "  #@markdown ```\n",
        "  #@markdown answer_basic_query(filer_df, investment_df, \"What is the most occurred investment name for cik 1605941 ?\")\n",
        "  #@markdown ```\n",
        "  #@markdown > should return 'United States of America'\n",
        "  pass"
      ],
      "metadata": {
        "id": "EJ3UlubnBibY"
      },
      "execution_count": null,
      "outputs": []
    },
    {
      "cell_type": "code",
      "source": [
        "def get_highest_individual_investment(filer_df, investment_df, cik):\n",
        "    # Merge the two DataFrames on the common column\n",
        "    merged_df = pd.merge(filer_df, investment_df, on='cik')\n",
        "\n",
        "    # Filter the merged DataFrame for the specified CIK\n",
        "    cik_investments = merged_df[merged_df['cik'] == cik]\n",
        "\n",
        "    # Find the row with the highest individual investment value\n",
        "    highest_investment = cik_investments.loc[cik_investments['value_USD'].idxmax()]\n",
        "\n",
        "    return (cik, highest_investment['investment_name'], highest_investment['value_USD'], highest_investment['percentage_investment'])"
      ],
      "metadata": {
        "id": "etlwSknps4Tl"
      },
      "execution_count": null,
      "outputs": []
    },
    {
      "cell_type": "code",
      "source": [
        "def get_most_occurred_investment_name(filer_df, investment_df, cik):\n",
        "    # Merge the two DataFrames on the common column\n",
        "    merged_df = pd.merge(filer_df, investment_df, on='cik')\n",
        "\n",
        "    # Filter the merged DataFrame for the specified CIK\n",
        "    cik_investments = merged_df[merged_df['cik'] == cik]\n",
        "\n",
        "    # Find the investment name which has occurred the most\n",
        "    most_occurred_investment = cik_investments['investment_name'].mode()[0]\n",
        "\n",
        "    return most_occurred_investment"
      ],
      "metadata": {
        "id": "dAaVlNNus42n"
      },
      "execution_count": null,
      "outputs": []
    },
    {
      "cell_type": "code",
      "source": [
        "def get_total_positive_and_negative_investment(filer_df, investment_df, cik):\n",
        "    # Merge the two DataFrames on the common column\n",
        "    merged_df = pd.merge(filer_df, investment_df, on='cik')\n",
        "\n",
        "    # Filter the merged DataFrame for the specified CIK\n",
        "    cik_investments = merged_df[merged_df['cik'] == cik]\n",
        "\n",
        "    # Calculate the total positive and negative investments\n",
        "    total_positive_investment = cik_investments[cik_investments['value_USD'] > 0]['value_USD'].sum()\n",
        "    total_negative_investment = cik_investments[cik_investments['value_USD'] < 0]['value_USD'].sum()\n",
        "\n",
        "    return (cik, total_positive_investment, total_negative_investment)"
      ],
      "metadata": {
        "id": "dJJ8qzxvs_Dg"
      },
      "execution_count": null,
      "outputs": []
    },
    {
      "cell_type": "code",
      "source": [
        "def answer_basic_query(filer_df, investment_df, query_str):\n",
        "    # Parse the query string to determine which function to call\n",
        "    if \"highest individual investment\" in query_str:\n",
        "        cik = int(query_str.split(\"for cik\")[1].strip().split()[0])\n",
        "        return get_highest_individual_investment(filer_df, investment_df, cik)\n",
        "    elif \"most occurred investment name\" in query_str:\n",
        "        cik = int(query_str.split(\"for cik\")[1].strip().split()[0])\n",
        "        return get_most_occurred_investment_name(filer_df, investment_df, cik)\n",
        "    elif \"total positive and negative investment\" in query_str:\n",
        "        cik = int(query_str.split(\"for cik\")[1].strip().split()[0])\n",
        "        return get_total_positive_and_negative_investment(filer_df, investment_df, cik)\n",
        "    else:\n",
        "        return \"Query not recognized. Please ask a specific query related to highest individual investment, most occurred investment name, or total positive and negative investment.\""
      ],
      "metadata": {
        "id": "H7TlVxLztBG_"
      },
      "execution_count": null,
      "outputs": []
    },
    {
      "cell_type": "code",
      "source": [
        "print(answer_basic_query(filer_df, investment_df, \"What is the highest individual investment for cik 1605941 ?\"))"
      ],
      "metadata": {
        "id": "DSVnnEWItFt2"
      },
      "execution_count": null,
      "outputs": []
    },
    {
      "cell_type": "code",
      "source": [
        "print(answer_basic_query(filer_df, investment_df, \"What is the most occurred investment name for cik 1605941 ?\"))"
      ],
      "metadata": {
        "id": "ktJnPHbwtGJ2"
      },
      "execution_count": null,
      "outputs": []
    },
    {
      "cell_type": "code",
      "source": [
        "print(answer_basic_query(filer_df, investment_df, \"What is the total positive and negative investment for cik 1605941 ?\"))"
      ],
      "metadata": {
        "id": "RN9agnRLtIxn"
      },
      "execution_count": null,
      "outputs": []
    },
    {
      "cell_type": "code",
      "source": [
        "#@title Complex QnA (50 points) - Let your creativity break free\n",
        "\n",
        "#@markdown #### Extend the above task, but now it should answer any natural language question.\n",
        "#@markdown #### Even an approach for the task in text would be good if you are unable to implement the logic.\n",
        "#@markdown #### Implement the following function:\n",
        "#@markdown #### <code> answer_general_query(filer_df, investment_df, query) </code>"
      ],
      "metadata": {
        "id": "bL9xAGz-B9-x"
      },
      "execution_count": null,
      "outputs": []
    },
    {
      "cell_type": "code",
      "source": [
        "def answer_general_query(filer_df, investment_df, query):\n",
        "  #Implement your code here\n",
        "  #@markdown ```\n",
        "  #@markdown answer_basic_query(filer_df, investment_df, \"Which are the top 5 investment names based on the total sum of value invested in them? \")\n",
        "  #@markdown ```\n",
        "  pass"
      ],
      "metadata": {
        "id": "oBN-8_HuCtcZ"
      },
      "execution_count": null,
      "outputs": []
    },
    {
      "cell_type": "code",
      "source": [
        "def get_highest_individual_investment(filer_df, investment_df, cik):\n",
        "    merged_df = pd.merge(filer_df, investment_df, on='cik')\n",
        "    cik_investments = merged_df[merged_df['cik'] == cik]\n",
        "    highest_investment = cik_investments.loc[cik_investments['value_USD'].idxmax()]\n",
        "    return (cik, highest_investment['investment_name'], highest_investment['value_USD'], highest_investment['percentage_investment'])"
      ],
      "metadata": {
        "id": "bceHDMH5tZyw"
      },
      "execution_count": null,
      "outputs": []
    },
    {
      "cell_type": "code",
      "source": [
        "def get_most_occurred_investment_name(filer_df, investment_df, cik):\n",
        "    merged_df = pd.merge(filer_df, investment_df, on='cik')\n",
        "    cik_investments = merged_df[merged_df['cik'] == cik]\n",
        "    most_occurred_investment = cik_investments['investment_name'].mode()[0]\n",
        "    return most_occurred_investment"
      ],
      "metadata": {
        "id": "_fgv2ZKPtaOG"
      },
      "execution_count": null,
      "outputs": []
    },
    {
      "cell_type": "code",
      "source": [
        "def get_total_positive_and_negative_investment(filer_df, investment_df, cik):\n",
        "    merged_df = pd.merge(filer_df, investment_df, on='cik')\n",
        "    cik_investments = merged_df[merged_df['cik'] == cik]\n",
        "    total_positive_investment = cik_investments[cik_investments['value_USD'] > 0]['value_USD'].sum()\n",
        "    total_negative_investment = cik_investments[cik_investments['value_USD'] < 0]['value_USD'].sum()\n",
        "    return (cik, total_positive_investment, total_negative_investment)"
      ],
      "metadata": {
        "id": "zVefHo3Wtda3"
      },
      "execution_count": null,
      "outputs": []
    },
    {
      "cell_type": "code",
      "source": [
        "def get_top_investment_names_by_value(investment_df, top_n=5):\n",
        "    investment_sums = investment_df.groupby('investment_name')['value_USD'].sum()\n",
        "    top_investments = investment_sums.nlargest(top_n).index.tolist()\n",
        "    return top_investments"
      ],
      "metadata": {
        "id": "nArDisxvtfP0"
      },
      "execution_count": null,
      "outputs": []
    },
    {
      "cell_type": "code",
      "source": [
        "def parse_query(query):\n",
        "    query = query.lower()\n",
        "    if \"highest individual investment\" in query:\n",
        "        cik = int(re.findall(r'\\bcik\\s+(\\d+)', query)[0])\n",
        "        return \"highest_individual_investment\", cik\n",
        "    elif \"most occurred investment name\" in query:\n",
        "        cik = int(re.findall(r'\\bcik\\s+(\\d+)', query)[0])\n",
        "        return \"most_occurred_investment_name\", cik\n",
        "    elif \"total positive and negative investment\" in query:\n",
        "        cik = int(re.findall(r'\\bcik\\s+(\\d+)', query)[0])\n",
        "        return \"total_positive_and_negative_investment\", cik\n",
        "    elif \"top\" in query and \"investment names\" in query:\n",
        "        top_n = int(re.findall(r'\\btop\\s+(\\d+)', query)[0])\n",
        "        return \"top_investment_names_by_value\", top_n\n",
        "    else:\n",
        "        return None, None"
      ],
      "metadata": {
        "id": "WUD4xFuBthKK"
      },
      "execution_count": null,
      "outputs": []
    },
    {
      "cell_type": "code",
      "source": [
        "def answer_general_query(filer_df, investment_df, query):\n",
        "    intent, param = parse_query(query)\n",
        "    if intent == \"highest_individual_investment\":\n",
        "        return get_highest_individual_investment(filer_df, investment_df, param)\n",
        "    elif intent == \"most_occurred_investment_name\":\n",
        "        return get_most_occurred_investment_name(filer_df, investment_df, param)\n",
        "    elif intent == \"total_positive_and_negative_investment\":\n",
        "        return get_total_positive_and_negative_investment(filer_df, investment_df, param)\n",
        "    elif intent == \"top_investment_names_by_value\":\n",
        "        return get_top_investment_names_by_value(investment_df, param)\n",
        "    else:\n",
        "        return \"Query not recognized. Please ask a specific query related to the available data.\""
      ],
      "metadata": {
        "id": "gGG7W_BCtjZH"
      },
      "execution_count": null,
      "outputs": []
    },
    {
      "cell_type": "code",
      "source": [
        "print(answer_general_query(filer_df, investment_df, \"What is the highest individual investment for cik 1605941 ?\"))"
      ],
      "metadata": {
        "id": "b4yHiKUwtlfV"
      },
      "execution_count": null,
      "outputs": []
    },
    {
      "cell_type": "code",
      "source": [
        "print(answer_general_query(filer_df, investment_df, \"What is the most occurred investment name for cik 1605941 ?\"))"
      ],
      "metadata": {
        "id": "EA_Iq1JPtoUE"
      },
      "execution_count": null,
      "outputs": []
    },
    {
      "cell_type": "code",
      "source": [
        "print(answer_general_query(filer_df, investment_df, \"What is the total positive and negative investment for cik 1605941 ?\"))"
      ],
      "metadata": {
        "id": "jTeK6vnhtqZd"
      },
      "execution_count": null,
      "outputs": []
    },
    {
      "cell_type": "code",
      "source": [
        "print(answer_general_query(filer_df, investment_df, \"Which are the top 5 investment names based on the total sum of value invested in them?\"))"
      ],
      "metadata": {
        "id": "NtH2PAC4tsii"
      },
      "execution_count": null,
      "outputs": []
    },
    {
      "cell_type": "code",
      "source": [],
      "metadata": {
        "id": "hcVuTLvXtvAl"
      },
      "execution_count": null,
      "outputs": []
    }
  ]
}